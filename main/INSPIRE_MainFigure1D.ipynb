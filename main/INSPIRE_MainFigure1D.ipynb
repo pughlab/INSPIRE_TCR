{
 "cells": [
  {
   "cell_type": "code",
   "execution_count": null,
   "id": "c9ec8bf3",
   "metadata": {},
   "outputs": [],
   "source": [
    "library(tidyverse)\n",
    "library(survminer)\n",
    "library(survival)"
   ]
  },
  {
   "cell_type": "code",
   "execution_count": null,
   "id": "39c082d8",
   "metadata": {},
   "outputs": [],
   "source": [
    "clinical_data_path <- \"/Users/shirin/Desktop/Immunarch/downsamplign/Projetcs/INSPIRE/clinical_data/coding_ref\"\n",
    "clinical_data_fname <- \"INSPIRE_ClinicalData_CodingRef.xlsx\"\n",
    "\n",
    "clinical_data <- readxl::read_xlsx(\n",
    "        file.path (\n",
    "                clinical_data_path , clinical_data_fname))%>%\n",
    "        dplyr::select(Patient_id , \n",
    "                      COHORT , \n",
    "                      `Best response longevity` ,\n",
    "                      `OS (months)` ,\n",
    "                      `PFS (months)`,\n",
    "                      `Lost to follow up` ,\n",
    "                      PFSEvent , \n",
    "                      OSEvent)"
   ]
  },
  {
   "cell_type": "code",
   "execution_count": null,
   "id": "0deb8a5d",
   "metadata": {},
   "outputs": [],
   "source": [
    "FMM_data_path <- \"/Users/shirin/Desktop/Immunarch/downsamplign/Projetcs/INSPIRE/Stats_Consultation/August_Revision\"\n",
    "FMM_data_fname <- \"INSPIRE_PBMC_FMM_cluster_2023August14.xlsx\"\n",
    "\n",
    "FMM_data <- readxl::read_xlsx(\n",
    "        file.path (\n",
    "                FMM_data_path , FMM_data_fname))%>%\n",
    "        dplyr::select(Patient_id ,  `FMM Cluster`) %>%\n",
    "        rename(FMM_Cluster = `FMM Cluster`) "
   ]
  },
  {
   "cell_type": "code",
   "execution_count": null,
   "id": "0659193e",
   "metadata": {},
   "outputs": [],
   "source": [
    "km_assessment <- left_join(FMM_data ,\n",
    "                           clinical_data,\n",
    "                           by = \"Patient_id\")"
   ]
  },
  {
   "cell_type": "markdown",
   "id": "28b24bfc",
   "metadata": {},
   "source": [
    "# PFS ASSESSMENT:"
   ]
  },
  {
   "cell_type": "code",
   "execution_count": null,
   "id": "a974e2d1",
   "metadata": {},
   "outputs": [],
   "source": [
    "pfs_km <- survminer::ggsurvplot (\n",
    "        survfit (Surv(`PFS (months)`, \n",
    "                      PFSEvent ,\n",
    "                      type = \"right\") ~ FMM_Cluster, \n",
    "                 data = km_assessment  ) ,\n",
    "        ###linewidth:\n",
    "        size = 0.5 ,\n",
    "        #linecolor:\n",
    "        palette = c(\n",
    "                \"#C5C8C7\" , #\"Baseline-High, Diminution\" , \n",
    "                          \"#016401\" , #\"Baseline-High, Stasis/Diversified\" ,\n",
    "                          \n",
    "                          \"#CD4E00\" , #\"Baseline-Low, Diversified\" ,        \n",
    "                          \"#3B3029\"   #\"Baseline-Low, Stasis/Decline\"\n",
    "        ) ,\n",
    "        #linetype:\n",
    "        linetype = c(\"solid\" , \"solid\" , \"solid\" , \"solid\") ,\n",
    "        \n",
    "        #Adding p-value:\n",
    "        pval = FALSE ,\n",
    "        pval.size = 5 ,\n",
    "        pval.coord = c(0 , 0.05) ,\n",
    "        \n",
    "        #Fine-tuning legend features:\n",
    "        legend = \"right\" ,\n",
    "        legend.title = \"Diversity shift\" ,\n",
    "        legend.labs = c( \"Baseline-High, Diminution\" , \n",
    "                         \"Baseline-High, Stasis/Diversified\" ,\n",
    "                         \"Baseline-Low, Diversified\" ,  \n",
    "                         \"Baseline-Low, Stasis/Decline\"),\n",
    "        \n",
    "        #Risk table:\n",
    "        risk.table = TRUE,\n",
    "        risk.table.col = \"strata\" ,\n",
    "        risk.table.height = 0.25 ,\n",
    "        risk.table.y.title = FALSE ) +\n",
    "        ylab (\"Progression-free survival\\nprobability\") +\n",
    "        xlab (\"Months\")"
   ]
  },
  {
   "cell_type": "code",
   "execution_count": null,
   "id": "72824d60",
   "metadata": {},
   "outputs": [],
   "source": [
    "pfs_km$plot <- pfs_km$plot + \n",
    "        theme_minimal() +\n",
    "        theme(\n",
    "                panel.grid = element_blank() ,\n",
    "                \n",
    "                axis.line = element_line(color = \"#000000\" , linewidth = 0.1),\n",
    "                axis.ticks = element_line(color = \"#000000\" , linewidth = 0.25) ,\n",
    "                axis.ticks.length = unit(0.25 , \"line\") ,\n",
    "                \n",
    "                axis.title = element_text ( size = 15, family = \"Helvetica\", face=\"plain\" , colour = \"#000000\"),\n",
    "                \n",
    "                axis.text = element_text ( size = 15, family = \"Helvetica\", face=\"plain\" ,\n",
    "                                           hjust = 0.5, colour = \"#000000\"),\n",
    "                \n",
    "                legend.title = element_text(family = \"Helvetica\", face=\"plain\" ,\n",
    "                                            color = \"#000000\", size = 10  ),\n",
    "                legend.text  = element_text(family = \"Helvetica\", face=\"plain\" ,\n",
    "                                            color = \"#000000\", size = 10) ,\n",
    "                legend.position= \"none\" ,\n",
    "                aspect.ratio = 0.5)"
   ]
  },
  {
   "cell_type": "code",
   "execution_count": null,
   "id": "7d570268",
   "metadata": {},
   "outputs": [],
   "source": [
    "pfs_km$table <- pfs_km$table + \n",
    "        theme_minimal() +\n",
    "        theme(panel.grid = element_blank() ,\n",
    "              axis.title = element_blank(),\n",
    "              axis.ticks = element_blank(),\n",
    "              axis.line = element_blank(),\n",
    "              \n",
    "              axis.text.y = element_text ( size = 13, family = \"Helvetica\", face=\"plain\" ,\n",
    "                                           colour = \"#000000\"),\n",
    "              axis.text.x = element_blank(),\n",
    "              legend.position= \"none\" ,\n",
    "              aspect.ratio = 0.13)"
   ]
  },
  {
   "cell_type": "code",
   "execution_count": null,
   "id": "538bb72e",
   "metadata": {},
   "outputs": [],
   "source": [
    "ggsave(\n",
    "        file.path(\n",
    "                \"/Users/shirin/Desktop/Immunarch/downsamplign/Projetcs/INSPIRE/dna/pbmc_feb/pbmc_diversity_profiles\",\n",
    "                \"INSPIRE_PBMCShannon_FMMClusters_PFS-KM.svg\" ),\n",
    "        device = \"svg\" ,\n",
    "        width = 2250,\n",
    "        height = 2500,\n",
    "        units = \"px\",\n",
    "        bg = \"transparent\",\n",
    "        dpi = 320 ,\n",
    "        plot = print(pfs_km , newpage = FALSE))"
   ]
  }
 ],
 "metadata": {
  "kernelspec": {
   "display_name": "R",
   "language": "R",
   "name": "ir"
  }
 },
 "nbformat": 4,
 "nbformat_minor": 5
}
