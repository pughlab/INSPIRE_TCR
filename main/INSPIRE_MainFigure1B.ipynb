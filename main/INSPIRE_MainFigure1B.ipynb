{
 "cells": [
  {
   "cell_type": "markdown",
   "id": "a3f3f30e",
   "metadata": {},
   "source": [
    "# DATA TIDYING:"
   ]
  },
  {
   "cell_type": "code",
   "execution_count": null,
   "id": "8c97e389",
   "metadata": {},
   "outputs": [],
   "source": [
    "library (tidyverse)"
   ]
  },
  {
   "cell_type": "code",
   "execution_count": null,
   "id": "cc769afa",
   "metadata": {},
   "outputs": [],
   "source": [
    "clinical_data_path <- \"/Users/shirin/Desktop/Immunarch/downsamplign/Projetcs/INSPIRE/clinical_data/coding_ref\"\n",
    "clinical_data_fname <- \"INSPIRE_ClinicalData_CodingRef.xlsx\"\n",
    "\n",
    "clinical_data <- readxl::read_xlsx(\n",
    "        file.path (\n",
    "                clinical_data_path , clinical_data_fname))%>%\n",
    "        dplyr::select(Patient_id ,  `Best response longevity` , COHORT)"
   ]
  },
  {
   "cell_type": "code",
   "execution_count": null,
   "id": "264f77d6",
   "metadata": {},
   "outputs": [],
   "source": [
    "input_path <- \"/Users/shirin/Desktop/Immunarch/downsamplign/Projetcs/INSPIRE/dna/pbmc_feb/pbmc_diversity_profiles\"\n",
    "input_fname <- \"INSPIRE_PBMC_Diversity_Downsampled.csv\"\n",
    "\n",
    "diversity_indices <- readr::read_csv(file.path (\n",
    "        input_path , input_fname) ) %>% \n",
    "        filter (Locus == \"CLONES_TRB\") %>%\n",
    "        filter(Order_q == 1) %>%\n",
    "        dplyr::select(Patient_id , Cycle , Diversity)%>%\n",
    "        left_join(clinical_data ,\n",
    "                  by = \"Patient_id\")%>% \n",
    "        mutate( COHORT = fct_relevel( COHORT , \n",
    "                                      \"SCCHN\", \n",
    "                                      \"TNBC\",\n",
    "                                      \"HGSOC\",\n",
    "                                      \"MM\", \n",
    "                                      \"MST\" ))%>%\n",
    "        mutate( `Best response longevity` = fct_relevel( `Best response longevity` , \n",
    "                                                         \"CR\", \n",
    "                                                         \"PR\",\n",
    "                                                         \"SD, 6 < n ICB cycles\",\n",
    "                                                         \"SD, n < 6 ICB cycles\", \n",
    "                                                         \"PD\" ))"
   ]
  },
  {
   "cell_type": "code",
   "execution_count": null,
   "id": "99510eaf",
   "metadata": {},
   "outputs": [],
   "source": [
    "color_pal = tibble(response = \n",
    "                           c (\"CR\",\n",
    "                              \"PR\",\n",
    "                              \"SD, 6 < n ICB cycles\",\n",
    "                              \"SD, n < 6 ICB cycles\",\n",
    "                              \"PD\" ,\n",
    "                              \"NE\"),\n",
    "                   color = \n",
    "                           c (\"#033483\" ,\n",
    "                                        \"#A7D2E9\" ,\n",
    "                                        \"#7DB290\" ,\n",
    "                                        \"#FEA500\" ,\n",
    "                                        \"#C5231B\" ,\n",
    "                                        \"#AFAFAF\"))"
   ]
  },
  {
   "cell_type": "code",
   "execution_count": null,
   "id": "75e16430",
   "metadata": {},
   "outputs": [],
   "source": [
    "diversity_indices %>%\n",
    "        filter(Cycle == \"SB\") %>%\n",
    "        group_by(COHORT) %>%\n",
    "        summarise(n = n())"
   ]
  },
  {
   "cell_type": "markdown",
   "id": "fbd40532",
   "metadata": {},
   "source": [
    "# STATISTICAL TESTs:"
   ]
  },
  {
   "cell_type": "code",
   "execution_count": null,
   "id": "6a3c9173",
   "metadata": {},
   "outputs": [],
   "source": [
    "kruskal.test( Diversity ~ COHORT, \n",
    "              data = diversity_indices %>%\n",
    "                      filter(Cycle == \"SB\"))"
   ]
  },
  {
   "cell_type": "code",
   "execution_count": null,
   "id": "30c99216",
   "metadata": {},
   "outputs": [],
   "source": [
    "pairwise.wilcox.test (\n",
    "        (diversity_indices %>%\n",
    "                 filter(Cycle == \"SB\"))$Diversity ,\n",
    "        (diversity_indices %>%\n",
    "                 filter(Cycle == \"SB\"))$COHORT ,\n",
    "        p.adjust.method = \"BH\")"
   ]
  },
  {
   "cell_type": "markdown",
   "id": "52a42bad",
   "metadata": {},
   "source": [
    "# VISUALIZATION:"
   ]
  },
  {
   "cell_type": "code",
   "execution_count": null,
   "id": "359b12b0",
   "metadata": {},
   "outputs": [],
   "source": [
    "ggsave(\n",
    "        file.path(\n",
    "                input_path,\n",
    "                \"INSPIRE_BaselinePBMC_TRB_Inter-CohortShannonDiversityBoxplot.svg\" ),\n",
    "        device = \"svg\" ,\n",
    "        width = 1500,\n",
    "        height = 1500, \n",
    "        units = \"px\",\n",
    "        bg = \"transparent\",  \n",
    "        dpi = 320)\n",
    "\n",
    "ggplot( data = diversity_indices %>%\n",
    "                filter(Cycle == \"SB\") %>%\n",
    "                mutate(COHORT = fct_relevel(\n",
    "                        COHORT ,\n",
    "                        \"SCCHN\", \n",
    "                        \"TNBC\",\n",
    "                        \"HGSOC\",\n",
    "                        \"MM\",\n",
    "                        \"MST\")),\n",
    "        aes(\n",
    "                x = COHORT ,\n",
    "                y = Diversity\n",
    "        )) +\n",
    "        \n",
    "        geom_boxplot(\n",
    "                outlier.shape = NA ,\n",
    "                width = 0.5 ,\n",
    "                fill = \"transparent\" ,\n",
    "                linewidth = 0.25) +\n",
    "        ggbeeswarm::geom_beeswarm(\n",
    "                aes(\n",
    "                        fill = `Best response longevity`\n",
    "                ),\n",
    "                method = \"center\" ,\n",
    "                cex = 2.5 ,\n",
    "                shape = 21 ,\n",
    "                size = 4.5 ,\n",
    "                stroke = 0.05 ) +\n",
    "        ggpubr::stat_compare_means( \n",
    "                ref.group = \".all.\" ,\n",
    "                hide.ns = TRUE ,\n",
    "                label = \"p.signif\" ,\n",
    "                method=\"wilcox.test\" ,\n",
    "                size = 8)+\n",
    "        \n",
    "        scale_fill_manual(values = color_pal$color,\n",
    "                          name = \"Best response\",\n",
    "                          breaks = color_pal$response ,\n",
    "                          guide = \"none\") +\n",
    "        \n",
    "        scale_x_discrete(\n",
    "                breaks = c(\n",
    "                        \"SCCHN\", \n",
    "                        \"TNBC\",\n",
    "                        \"HGSOC\",\n",
    "                        \"MM\",\n",
    "                        \"MST\" ) ,\n",
    "                label = c(\n",
    "                        \"SCCHN\\nN=14\" ,\n",
    "                        \"TNBC\\nN=12\" ,\n",
    "                        \"HGSOC\\nN=10\" ,\n",
    "                        \"MM\\nN=10\" ,\n",
    "                        \"MST\\nN=22\" ),\n",
    "                position = \"bottom\" )+\n",
    "        ylim(c(40 , 3950)) +\n",
    "        ylab (\"Baseline PBMC Shannon diversity\")+\n",
    "        \n",
    "        theme_minimal() +\n",
    "        theme(\n",
    "                panel.grid = element_blank() ,\n",
    "                \n",
    "                axis.line.y = element_line(color = \"#000000\" , linewidth = 0.1),\n",
    "                axis.ticks = element_line(color = \"#000000\" , linewidth = 0.25) ,\n",
    "                axis.ticks.length = unit(0.25 , \"line\") ,\n",
    "                \n",
    "                axis.title.x = element_blank(),\n",
    "                axis.title.y = element_text ( size = 15, family = \"Helvetica\", face=\"plain\" , colour = \"#000000\"),\n",
    "                \n",
    "                axis.text.y = element_text ( size = 15, family = \"Helvetica\", face=\"plain\" ,\n",
    "                                             hjust = 0.5, colour = \"#000000\"),\n",
    "                axis.text.x = element_text ( size = 13, family = \"Helvetica\", face=\"plain\" ,\n",
    "                                             hjust = 0.5, colour = \"#000000\" ) ,\n",
    "                legend.title = element_text(family = \"Helvetica\", face=\"plain\" ,\n",
    "                                            color = \"#000000\", size = 12  ),\n",
    "                legend.text  = element_text(family = \"Helvetica\", face=\"plain\" ,\n",
    "                                            color = \"#000000\", size = 12) ,\n",
    "                legend.position='bottom' ,\n",
    "                aspect.ratio = 1.25 )\n",
    "\n",
    "\n",
    "dev.off()"
   ]
  }
 ],
 "metadata": {
  "kernelspec": {
   "display_name": "R",
   "language": "R",
   "name": "ir"
  },
  "language_info": {
   "codemirror_mode": "r",
   "file_extension": ".r",
   "mimetype": "text/x-r-source",
   "name": "R",
   "pygments_lexer": "r",
   "version": "4.1.1"
  }
 },
 "nbformat": 4,
 "nbformat_minor": 5
}
